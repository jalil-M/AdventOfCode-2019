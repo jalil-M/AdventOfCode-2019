{
 "cells": [
  {
   "cell_type": "code",
   "execution_count": 1,
   "metadata": {},
   "outputs": [],
   "source": [
    "import numpy as np\n",
    "import math\n",
    "\n",
    "arr = np.loadtxt('input.txt')"
   ]
  },
  {
   "cell_type": "code",
   "execution_count": 2,
   "metadata": {},
   "outputs": [
    {
     "name": "stdout",
     "output_type": "stream",
     "text": [
      "3420719\n"
     ]
    }
   ],
   "source": [
    "sum = 0\n",
    "for i in range (arr.shape[0]):\n",
    "    new_i = math.floor(arr[i]/3) - 2\n",
    "    sum = new_i + sum\n",
    "    \n",
    "print(sum)"
   ]
  },
  {
   "cell_type": "code",
   "execution_count": 3,
   "metadata": {},
   "outputs": [
    {
     "name": "stdout",
     "output_type": "stream",
     "text": [
      "5128029\n"
     ]
    }
   ],
   "source": [
    "sum_ = 0\n",
    "for j in range (arr.shape[0]):\n",
    "    new_fuel = arr[j]\n",
    "    sum_fuel = 0\n",
    "    while (new_fuel >= 0):\n",
    "        new_fuel = math.floor(new_fuel/3) - 2\n",
    "        sum_fuel = new_fuel + sum_fuel\n",
    "    sum_ = sum_fuel + sum_\n",
    "    \n",
    "print(sum_)"
   ]
  }
 ],
 "metadata": {
  "kernelspec": {
   "display_name": "Python 3",
   "language": "python",
   "name": "python3"
  },
  "language_info": {
   "codemirror_mode": {
    "name": "ipython",
    "version": 3
   },
   "file_extension": ".py",
   "mimetype": "text/x-python",
   "name": "python",
   "nbconvert_exporter": "python",
   "pygments_lexer": "ipython3",
   "version": "3.7.0"
  }
 },
 "nbformat": 4,
 "nbformat_minor": 2
}
