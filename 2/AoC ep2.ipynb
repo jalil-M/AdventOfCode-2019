{
 "cells": [
  {
   "cell_type": "code",
   "execution_count": 23,
   "metadata": {},
   "outputs": [],
   "source": [
    "import numpy as np\n",
    "import math\n",
    "\n",
    "f = open(\"input.txt\", \"r\")\n",
    "txt = f.read()"
   ]
  },
  {
   "cell_type": "code",
   "execution_count": 24,
   "metadata": {},
   "outputs": [],
   "source": [
    "arr = txt.split(',')\n",
    "results = list(map(int, arr))"
   ]
  },
  {
   "cell_type": "code",
   "execution_count": 25,
   "metadata": {},
   "outputs": [],
   "source": [
    "def get_program(file):\n",
    "    with open(file) as f:\n",
    "        return list(map(int, f.read().split(',')))\n",
    "\n",
    "\n",
    "def run_program(program, noun, verb):\n",
    "    program[1] = noun\n",
    "    program[2] = verb\n",
    "    pc = 0\n",
    "    while pc < len(program):\n",
    "        opcode = program[pc]\n",
    "        op1 = program[program[pc + 1]]\n",
    "        op2 = program[program[pc + 2]]\n",
    "        dest = program[pc + 3]\n",
    "        if opcode == 1 or opcode == 2:\n",
    "            program[dest] = op1 + op2 if opcode == 1 else op1 * op2\n",
    "            pc += 4\n",
    "        elif opcode == 99:\n",
    "            break\n",
    "        else:\n",
    "            print('unknown opcode')\n",
    "            break\n",
    "    return program[0]\n",
    "\n",
    "\n",
    "def part_one():\n",
    "    return run_program(get_program('input.txt'), 12, 2)\n",
    "\n",
    "\n",
    "def part_two(output):\n",
    "    program = get_program('input.txt')\n",
    "    for noun in range(100):\n",
    "        for verb in range(100):\n",
    "            if run_program(program.copy(), noun, verb) == output:\n",
    "                return 100 * noun + verb\n",
    "    return 'not found'"
   ]
  },
  {
   "cell_type": "code",
   "execution_count": 26,
   "metadata": {},
   "outputs": [
    {
     "name": "stdout",
     "output_type": "stream",
     "text": [
      "5290681\n"
     ]
    }
   ],
   "source": [
    "print(part_one())"
   ]
  },
  {
   "cell_type": "code",
   "execution_count": 27,
   "metadata": {},
   "outputs": [
    {
     "name": "stdout",
     "output_type": "stream",
     "text": [
      "5741\n"
     ]
    }
   ],
   "source": [
    "print(part_two(19690720))"
   ]
  }
 ],
 "metadata": {
  "kernelspec": {
   "display_name": "Python 3",
   "language": "python",
   "name": "python3"
  },
  "language_info": {
   "codemirror_mode": {
    "name": "ipython",
    "version": 3
   },
   "file_extension": ".py",
   "mimetype": "text/x-python",
   "name": "python",
   "nbconvert_exporter": "python",
   "pygments_lexer": "ipython3",
   "version": "3.7.0"
  }
 },
 "nbformat": 4,
 "nbformat_minor": 2
}
